{
 "cells": [
  {
   "cell_type": "code",
   "execution_count": 1,
   "metadata": {
    "collapsed": true
   },
   "outputs": [],
   "source": [
    "# Dependencies to Visualize the model\n",
    "import matplotlib.pyplot as plt\n",
    "%matplotlib inline"
   ]
  },
  {
   "cell_type": "code",
   "execution_count": 2,
   "metadata": {
    "collapsed": true
   },
   "outputs": [],
   "source": [
    "# Filepaths, numpy, and Tensorflow\n",
    "import os\n",
    "import numpy as np\n",
    "import tensorflow as tf\n",
    "import pandas as pd"
   ]
  },
  {
   "cell_type": "code",
   "execution_count": 3,
   "metadata": {
    "collapsed": true
   },
   "outputs": [],
   "source": [
    "# Sklearn scaling\n",
    "from sklearn.preprocessing import MinMaxScaler"
   ]
  },
  {
   "cell_type": "code",
   "execution_count": 4,
   "metadata": {},
   "outputs": [
    {
     "name": "stderr",
     "output_type": "stream",
     "text": [
      "Using TensorFlow backend.\n"
     ]
    }
   ],
   "source": [
    "# Keras\n",
    "from keras.models import Sequential\n",
    "from keras.utils import to_categorical\n",
    "from keras.layers import Dense"
   ]
  },
  {
   "cell_type": "markdown",
   "metadata": {},
   "source": [
    "# Loading and Preprocessing Data"
   ]
  },
  {
   "cell_type": "code",
   "execution_count": 5,
   "metadata": {},
   "outputs": [
    {
     "name": "stdout",
     "output_type": "stream",
     "text": [
      "Index(['BeerID', 'Name', 'Style', 'StyleID', 'OG', 'FG', 'ABV', 'IBU', 'Color',\n",
      "       'BoilSize', 'BoilTime', 'Efficiency', 'ViewCount', 'BrewCount',\n",
      "       'LastUpdated', 'Category', 'clusters_7param', 'clusters_3param'],\n",
      "      dtype='object')\n",
      "(73861, 7) (73861,)\n"
     ]
    },
    {
     "data": {
      "text/plain": [
       "0    8\n",
       "1    8\n",
       "2    0\n",
       "3    8\n",
       "4    0\n",
       "Name: clusters_7param, dtype: int64"
      ]
     },
     "execution_count": 5,
     "metadata": {},
     "output_type": "execute_result"
    }
   ],
   "source": [
    "#import data from Ethan\n",
    "all_beer_df = pd.read_csv(\"data_add_3param_cluster.csv\", encoding=\"latin1\" )\n",
    "\n",
    "#trim data to needed X colums\n",
    "print(all_beer_df.columns)\n",
    "beer_char = all_beer_df[[\"OG\",\"FG\",\"ABV\",\"IBU\",\"Color\",\"BoilTime\",\"Efficiency\"]]\n",
    "\n",
    "#Set beer_char as X \n",
    "X=beer_char\n",
    "X.head()\n",
    "\n",
    "#set y data\n",
    "y=all_beer_df[\"clusters_7param\"]\n",
    "print(X.shape, y.shape)\n",
    "y.head()"
   ]
  },
  {
   "cell_type": "code",
   "execution_count": 6,
   "metadata": {},
   "outputs": [
    {
     "name": "stdout",
     "output_type": "stream",
     "text": [
      "13\n"
     ]
    }
   ],
   "source": [
    "#find the number of unique beer styles and set as variable\n",
    "\n",
    "#create an array of unique values from the output dataset\n",
    "style_array = pd.unique(y.values)\n",
    "\n",
    "#set the count as the length of the output array\n",
    "style_count = len(style_array)\n",
    "\n",
    "print(style_count)"
   ]
  },
  {
   "cell_type": "code",
   "execution_count": 7,
   "metadata": {
    "collapsed": true
   },
   "outputs": [],
   "source": [
    "###Scale and pre-process the data\n",
    "from sklearn.model_selection import train_test_split\n",
    "from sklearn.preprocessing import LabelEncoder, StandardScaler\n",
    "from keras.utils import to_categorical\n",
    "\n",
    "X_train, X_test, y_train, y_test = train_test_split(X, y, random_state=1, stratify=y)\n",
    "X_scaler = StandardScaler().fit(X_train)\n",
    "X_train_scaled = X_scaler.transform(X_train)\n",
    "X_test_scaled = X_scaler.transform(X_test)\n",
    "\n",
    "\n",
    "# Step 1: Label-encode data set\n",
    "label_encoder = LabelEncoder()\n",
    "label_encoder.fit(y_train)\n",
    "encoded_y_train = label_encoder.transform(y_train)\n",
    "encoded_y_test = label_encoder.transform(y_test)\n",
    "\n",
    "# Step 2: Convert encoded labels to one-hot-encoding\n",
    "y_train_categorical = to_categorical(encoded_y_train)\n",
    "y_test_categorical = to_categorical(encoded_y_test)\n"
   ]
  },
  {
   "cell_type": "code",
   "execution_count": 8,
   "metadata": {},
   "outputs": [
    {
     "name": "stdout",
     "output_type": "stream",
     "text": [
      "[ 1.  0.  0.  0.  0.  0.  0.  0.  0.  0.  0.  0.  0.]\n"
     ]
    }
   ],
   "source": [
    "#check the categorical results\n",
    "print(y_train_categorical[0])"
   ]
  },
  {
   "cell_type": "markdown",
   "metadata": {},
   "source": [
    "Create Deep Learning Model"
   ]
  },
  {
   "cell_type": "code",
   "execution_count": 9,
   "metadata": {
    "collapsed": true
   },
   "outputs": [],
   "source": [
    "#setup a sequential model\n",
    "from keras.models import Sequential\n",
    "from keras.layers import Dense\n",
    "\n",
    "model = Sequential()\n",
    "# Add the first layer where the input dimensions are the 5 inputs (don't have to specify batch size)\n",
    "# We can also choose our activation function. `relu` is a common\n",
    "model.add(Dense(units=100, activation='relu', input_dim=X_train.shape[1]))\n",
    "\n",
    "#add a second hidden layer\n",
    "model.add(Dense(units=100, activation='relu'))\n",
    "\n",
    "#add a second hidden layer\n",
    "model.add(Dense(units=100, activation='relu'))\n",
    "\n",
    "#add a third hidden layer\n",
    "model.add(Dense(units=100, activation='relu'))\n",
    "\n",
    "#specify the output\n",
    "model.add(Dense(units=style_count, activation='softmax'))"
   ]
  },
  {
   "cell_type": "code",
   "execution_count": 10,
   "metadata": {},
   "outputs": [
    {
     "name": "stdout",
     "output_type": "stream",
     "text": [
      "Epoch 1/25\n",
      " - 6s - loss: 0.1508 - acc: 0.9529\n",
      "Epoch 2/25\n",
      " - 4s - loss: 0.0699 - acc: 0.9751\n",
      "Epoch 3/25\n",
      " - 4s - loss: 0.0600 - acc: 0.9788\n",
      "Epoch 4/25\n",
      " - 4s - loss: 0.0543 - acc: 0.9809\n",
      "Epoch 5/25\n",
      " - 4s - loss: 0.0500 - acc: 0.9828\n",
      "Epoch 6/25\n",
      " - 4s - loss: 0.0486 - acc: 0.9840\n",
      "Epoch 7/25\n",
      " - 4s - loss: 0.0436 - acc: 0.9856\n",
      "Epoch 8/25\n",
      " - 4s - loss: 0.0441 - acc: 0.9851\n",
      "Epoch 9/25\n",
      " - 4s - loss: 0.0412 - acc: 0.9865\n",
      "Epoch 10/25\n",
      " - 4s - loss: 0.0401 - acc: 0.9867\n",
      "Epoch 11/25\n",
      " - 4s - loss: 0.0382 - acc: 0.9879\n",
      "Epoch 12/25\n",
      " - 4s - loss: 0.0374 - acc: 0.9881\n",
      "Epoch 13/25\n",
      " - 4s - loss: 0.0368 - acc: 0.9877\n",
      "Epoch 14/25\n",
      " - 4s - loss: 0.0356 - acc: 0.9882\n",
      "Epoch 15/25\n",
      " - 4s - loss: 0.0360 - acc: 0.9887\n",
      "Epoch 16/25\n",
      " - 4s - loss: 0.0336 - acc: 0.9895\n",
      "Epoch 17/25\n",
      " - 5s - loss: 0.0351 - acc: 0.9882\n",
      "Epoch 18/25\n",
      " - 3s - loss: 0.0331 - acc: 0.9896\n",
      "Epoch 19/25\n",
      " - 3s - loss: 0.0330 - acc: 0.9897\n",
      "Epoch 20/25\n",
      " - 3s - loss: 0.0312 - acc: 0.9901\n",
      "Epoch 21/25\n",
      " - 3s - loss: 0.0305 - acc: 0.9907\n",
      "Epoch 22/25\n",
      " - 3s - loss: 0.0322 - acc: 0.9895\n",
      "Epoch 23/25\n",
      " - 3s - loss: 0.0305 - acc: 0.9905\n",
      "Epoch 24/25\n",
      " - 3s - loss: 0.0301 - acc: 0.9906\n",
      "Epoch 25/25\n",
      " - 3s - loss: 0.0294 - acc: 0.9909\n"
     ]
    },
    {
     "data": {
      "text/plain": [
       "<keras.callbacks.History at 0x150e427eb70>"
      ]
     },
     "execution_count": 10,
     "metadata": {},
     "output_type": "execute_result"
    }
   ],
   "source": [
    "#compile and fit the model\n",
    "\n",
    "model.compile(optimizer='adam', \n",
    "              loss='categorical_crossentropy', \n",
    "              metrics=['accuracy'])\n",
    "model.fit(\n",
    "    X_train_scaled,\n",
    "    y_train_categorical,\n",
    "    epochs=25,\n",
    "    shuffle=True,\n",
    "    verbose=2\n",
    ")"
   ]
  },
  {
   "cell_type": "code",
   "execution_count": 11,
   "metadata": {},
   "outputs": [
    {
     "name": "stdout",
     "output_type": "stream",
     "text": [
      "Normal Neural Network - Loss: 0.032368366613116185, Accuracy: 0.989764973464746\n",
      "_________________________________________________________________\n",
      "Layer (type)                 Output Shape              Param #   \n",
      "=================================================================\n",
      "dense_1 (Dense)              (None, 100)               800       \n",
      "_________________________________________________________________\n",
      "dense_2 (Dense)              (None, 100)               10100     \n",
      "_________________________________________________________________\n",
      "dense_3 (Dense)              (None, 100)               10100     \n",
      "_________________________________________________________________\n",
      "dense_4 (Dense)              (None, 100)               10100     \n",
      "_________________________________________________________________\n",
      "dense_5 (Dense)              (None, 13)                1313      \n",
      "=================================================================\n",
      "Total params: 32,413\n",
      "Trainable params: 32,413\n",
      "Non-trainable params: 0\n",
      "_________________________________________________________________\n"
     ]
    }
   ],
   "source": [
    "#Quantify the trained model\n",
    "model_loss, model_accuracy = model.evaluate(X_test_scaled, y_test_categorical, verbose=2)\n",
    "print(f\"Normal Neural Network - Loss: {model_loss}, Accuracy: {model_accuracy}\")\n",
    "\n",
    "model.summary()\n",
    "\n",
    "#save the model\n",
    "model.save(\"beer_7p_13style.h5\")"
   ]
  },
  {
   "cell_type": "code",
   "execution_count": 12,
   "metadata": {},
   "outputs": [
    {
     "data": {
      "text/plain": [
       "array([[-0.1676544 , -0.15914084, -1.08693476,  0.35702107, -0.73255608,\n",
       "        -1.00511989, -2.22600062],\n",
       "       [-0.16628653, -0.1475736 , -1.24599745, -0.23998886,  0.10081883,\n",
       "        -0.33834685,  0.82597032],\n",
       "       [-0.14440069, -0.12675258,  1.44216215,  0.29870847,  2.19718635,\n",
       "         0.66181272,  0.61304212],\n",
       "       [-0.15579957, -0.14988705,  0.44536924,  6.58744445, -0.57405635,\n",
       "         1.66197228, -0.45159891],\n",
       "       [-0.16309485, -0.1475736 , -0.75820518, -0.48110683, -0.78844809,\n",
       "        -0.33834685, -2.22600062],\n",
       "       [-0.15807934, -0.1522005 ,  0.1484522 ,  0.43014321, -0.24120691,\n",
       "        -0.33834685,  0.61304212],\n",
       "       [-0.16172698, -0.1522005 , -0.39236097, -0.6324419 , -0.55320112,\n",
       "        -0.33834685, -2.22600062],\n",
       "       [-0.16309485, -0.1475736 , -0.69988219, -0.26405438, -0.60325367,\n",
       "         0.3284262 ,  0.96792246],\n",
       "       [-0.15762339, -0.14294671, -0.05302722, -0.29876426,  1.09603031,\n",
       "        -0.33834685, -2.58088097],\n",
       "       [-0.13026608, -0.10361811,  2.96916405,  0.59605644,  2.99051923,\n",
       "         1.66197228,  0.25816177]])"
      ]
     },
     "execution_count": 12,
     "metadata": {},
     "output_type": "execute_result"
    }
   ],
   "source": [
    "X_test_scaled[:10]"
   ]
  },
  {
   "cell_type": "code",
   "execution_count": 13,
   "metadata": {},
   "outputs": [
    {
     "name": "stdout",
     "output_type": "stream",
     "text": [
      "Predicted classes: [ 6  0  2  9  6 12  6  0 10  2]\n",
      "Actual Labels: [6, 0, 2, 9, 6, 12, 6, 0, 10, 2]\n"
     ]
    }
   ],
   "source": [
    "###TEST THE MODEL - THIS DOESN'T GO IN FINAL CODE\n",
    "encoded_predictions = model.predict_classes(X_test_scaled[:10])\n",
    "\n",
    "#decode the \n",
    "prediction_labels = label_encoder.inverse_transform(encoded_predictions)\n",
    "\n",
    "#print predicted vs actual\n",
    "print(f\"Predicted classes: {prediction_labels}\")\n",
    "print(f\"Actual Labels: {list(y_test[:10])}\")\n",
    "### END SOLUTION"
   ]
  },
  {
   "cell_type": "code",
   "execution_count": 14,
   "metadata": {
    "collapsed": true
   },
   "outputs": [],
   "source": [
    "###Call the saved model and run a prediction\n",
    "\n",
    "# Load the model\n",
    "from keras.models import load_model\n",
    "model = load_model(\"beer_7p_13style.h5\")"
   ]
  },
  {
   "cell_type": "code",
   "execution_count": null,
   "metadata": {
    "collapsed": true
   },
   "outputs": [],
   "source": [
    "#tell it what to run based on user input - AJAX here?\n",
    "\n",
    "input_beer = #call user input\n",
    "\n",
    "input_beer_scaled = #how to scale our input?"
   ]
  },
  {
   "cell_type": "code",
   "execution_count": null,
   "metadata": {
    "collapsed": true
   },
   "outputs": [],
   "source": [
    "#run a prediction\n",
    "# Make predictions\n",
    "\n",
    "styleID_guess = model.predict_classes(input_beer_scaled) #Instead, do we want to show the % chance of each?\n",
    "\n",
    "styleID = #translate the style ID to a style name"
   ]
  }
 ],
 "metadata": {
  "kernelspec": {
   "display_name": "Python [default]",
   "language": "python",
   "name": "python3"
  },
  "language_info": {
   "codemirror_mode": {
    "name": "ipython",
    "version": 3
   },
   "file_extension": ".py",
   "mimetype": "text/x-python",
   "name": "python",
   "nbconvert_exporter": "python",
   "pygments_lexer": "ipython3",
   "version": "3.6.3"
  }
 },
 "nbformat": 4,
 "nbformat_minor": 2
}
