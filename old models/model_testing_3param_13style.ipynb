{
 "cells": [
  {
   "cell_type": "code",
   "execution_count": 1,
   "metadata": {
    "collapsed": true
   },
   "outputs": [],
   "source": [
    "# Dependencies to Visualize the model\n",
    "import matplotlib.pyplot as plt\n",
    "%matplotlib inline"
   ]
  },
  {
   "cell_type": "code",
   "execution_count": 2,
   "metadata": {
    "collapsed": true
   },
   "outputs": [],
   "source": [
    "# Filepaths, numpy, and Tensorflow\n",
    "import os\n",
    "import numpy as np\n",
    "import tensorflow as tf\n",
    "import pandas as pd"
   ]
  },
  {
   "cell_type": "code",
   "execution_count": 3,
   "metadata": {
    "collapsed": true
   },
   "outputs": [],
   "source": [
    "# Sklearn scaling\n",
    "from sklearn.preprocessing import MinMaxScaler"
   ]
  },
  {
   "cell_type": "code",
   "execution_count": 4,
   "metadata": {},
   "outputs": [
    {
     "name": "stderr",
     "output_type": "stream",
     "text": [
      "Using TensorFlow backend.\n"
     ]
    }
   ],
   "source": [
    "# Keras\n",
    "from keras.models import Sequential\n",
    "from keras.utils import to_categorical\n",
    "from keras.layers import Dense"
   ]
  },
  {
   "cell_type": "markdown",
   "metadata": {},
   "source": [
    "# Loading and Preprocessing Data"
   ]
  },
  {
   "cell_type": "code",
   "execution_count": 5,
   "metadata": {},
   "outputs": [
    {
     "name": "stdout",
     "output_type": "stream",
     "text": [
      "Index(['BeerID', 'Name', 'Style', 'StyleID', 'OG', 'FG', 'ABV', 'IBU', 'Color',\n",
      "       'BoilSize', 'BoilTime', 'Efficiency', 'ViewCount', 'BrewCount',\n",
      "       'LastUpdated', 'Category', 'clusters_7param', 'clusters_3param'],\n",
      "      dtype='object')\n",
      "(73861, 3) (73861,)\n"
     ]
    },
    {
     "data": {
      "text/plain": [
       "0    11\n",
       "1    11\n",
       "2    11\n",
       "3     1\n",
       "4     1\n",
       "Name: clusters_3param, dtype: int64"
      ]
     },
     "execution_count": 5,
     "metadata": {},
     "output_type": "execute_result"
    }
   ],
   "source": [
    "#import data from Ethan\n",
    "all_beer_df = pd.read_csv(\"data_add_3param_cluster.csv\", encoding=\"latin1\" )\n",
    "\n",
    "#trim data to needed X colums\n",
    "print(all_beer_df.columns)\n",
    "beer_char = all_beer_df[[\"ABV\",\"IBU\",\"Color\"]]\n",
    "\n",
    "#Set beer_char as X \n",
    "X=beer_char\n",
    "X.head()\n",
    "\n",
    "#set y data\n",
    "y=all_beer_df[\"clusters_3param\"]\n",
    "print(X.shape, y.shape)\n",
    "y.head()"
   ]
  },
  {
   "cell_type": "code",
   "execution_count": 6,
   "metadata": {},
   "outputs": [
    {
     "name": "stdout",
     "output_type": "stream",
     "text": [
      "13\n"
     ]
    }
   ],
   "source": [
    "#find the number of unique beer styles and set as variable\n",
    "\n",
    "#create an array of unique values from the output dataset\n",
    "style_array = pd.unique(y.values)\n",
    "\n",
    "#set the count as the length of the output array\n",
    "style_count = len(style_array)\n",
    "\n",
    "print(style_count)"
   ]
  },
  {
   "cell_type": "code",
   "execution_count": 7,
   "metadata": {
    "collapsed": true
   },
   "outputs": [],
   "source": [
    "###Scale and pre-process the data\n",
    "from sklearn.model_selection import train_test_split\n",
    "from sklearn.preprocessing import LabelEncoder, StandardScaler\n",
    "from keras.utils import to_categorical\n",
    "\n",
    "X_train, X_test, y_train, y_test = train_test_split(X, y, random_state=1, stratify=y)\n",
    "X_scaler = StandardScaler().fit(X_train)\n",
    "X_train_scaled = X_scaler.transform(X_train)\n",
    "X_test_scaled = X_scaler.transform(X_test)\n",
    "\n",
    "\n",
    "# Step 1: Label-encode data set\n",
    "label_encoder = LabelEncoder()\n",
    "label_encoder.fit(y_train)\n",
    "encoded_y_train = label_encoder.transform(y_train)\n",
    "encoded_y_test = label_encoder.transform(y_test)\n",
    "\n",
    "# Step 2: Convert encoded labels to one-hot-encoding\n",
    "y_train_categorical = to_categorical(encoded_y_train)\n",
    "y_test_categorical = to_categorical(encoded_y_test)\n"
   ]
  },
  {
   "cell_type": "code",
   "execution_count": 8,
   "metadata": {},
   "outputs": [
    {
     "name": "stdout",
     "output_type": "stream",
     "text": [
      "[ 0.  1.  0.  0.  0.  0.  0.  0.  0.  0.  0.  0.  0.]\n"
     ]
    }
   ],
   "source": [
    "#check the categorical results\n",
    "print(y_train_categorical[0])"
   ]
  },
  {
   "cell_type": "markdown",
   "metadata": {},
   "source": [
    "Create Deep Learning Model"
   ]
  },
  {
   "cell_type": "code",
   "execution_count": 9,
   "metadata": {
    "collapsed": true
   },
   "outputs": [],
   "source": [
    "#setup a sequential model\n",
    "from keras.models import Sequential\n",
    "from keras.layers import Dense\n",
    "\n",
    "model = Sequential()\n",
    "# Add the first layer where the input dimensions are the 5 inputs (don't have to specify batch size)\n",
    "# We can also choose our activation function. `relu` is a common\n",
    "model.add(Dense(units=100, activation='relu', input_dim=X_train.shape[1]))\n",
    "\n",
    "#add a second hidden layer\n",
    "model.add(Dense(units=100, activation='relu'))\n",
    "\n",
    "#add a second hidden layer\n",
    "model.add(Dense(units=100, activation='relu'))\n",
    "\n",
    "#add a third hidden layer\n",
    "model.add(Dense(units=100, activation='relu'))\n",
    "\n",
    "#specify the output\n",
    "model.add(Dense(units=style_count, activation='softmax'))"
   ]
  },
  {
   "cell_type": "code",
   "execution_count": 10,
   "metadata": {},
   "outputs": [
    {
     "name": "stdout",
     "output_type": "stream",
     "text": [
      "Epoch 1/25\n",
      " - 3s - loss: 0.2098 - acc: 0.9297\n",
      "Epoch 2/25\n",
      " - 3s - loss: 0.1006 - acc: 0.9625\n",
      "Epoch 3/25\n",
      " - 3s - loss: 0.0859 - acc: 0.9686\n",
      "Epoch 4/25\n",
      " - 3s - loss: 0.0811 - acc: 0.9707\n",
      "Epoch 5/25\n",
      " - 3s - loss: 0.0759 - acc: 0.9724\n",
      "Epoch 6/25\n",
      " - 3s - loss: 0.0708 - acc: 0.9745\n",
      "Epoch 7/25\n",
      " - 3s - loss: 0.0711 - acc: 0.9743\n",
      "Epoch 8/25\n",
      " - 3s - loss: 0.0660 - acc: 0.9765\n",
      "Epoch 9/25\n",
      " - 4s - loss: 0.0639 - acc: 0.9767\n",
      "Epoch 10/25\n",
      " - 4s - loss: 0.0614 - acc: 0.9784\n",
      "Epoch 11/25\n",
      " - 4s - loss: 0.0595 - acc: 0.9793\n",
      "Epoch 12/25\n",
      " - 4s - loss: 0.0585 - acc: 0.9791\n",
      "Epoch 13/25\n",
      " - 4s - loss: 0.0568 - acc: 0.9800\n",
      "Epoch 14/25\n",
      " - 4s - loss: 0.0548 - acc: 0.9807\n",
      "Epoch 15/25\n",
      " - 4s - loss: 0.0563 - acc: 0.9806\n",
      "Epoch 16/25\n",
      " - 4s - loss: 0.0543 - acc: 0.9809\n",
      "Epoch 17/25\n",
      " - 4s - loss: 0.0525 - acc: 0.9816\n",
      "Epoch 18/25\n",
      " - 4s - loss: 0.0502 - acc: 0.9830\n",
      "Epoch 19/25\n",
      " - 4s - loss: 0.0510 - acc: 0.9826\n",
      "Epoch 20/25\n",
      " - 4s - loss: 0.0493 - acc: 0.9835\n",
      "Epoch 21/25\n",
      " - 4s - loss: 0.0490 - acc: 0.9835\n",
      "Epoch 22/25\n",
      " - 4s - loss: 0.0483 - acc: 0.9838\n",
      "Epoch 23/25\n",
      " - 4s - loss: 0.0481 - acc: 0.9839\n",
      "Epoch 24/25\n",
      " - 4s - loss: 0.0474 - acc: 0.9841\n",
      "Epoch 25/25\n",
      " - 4s - loss: 0.0461 - acc: 0.9843\n"
     ]
    },
    {
     "data": {
      "text/plain": [
       "<keras.callbacks.History at 0x271ad16e518>"
      ]
     },
     "execution_count": 10,
     "metadata": {},
     "output_type": "execute_result"
    }
   ],
   "source": [
    "#compile and fit the model\n",
    "\n",
    "model.compile(optimizer='adam', \n",
    "              loss='categorical_crossentropy', \n",
    "              metrics=['accuracy'])\n",
    "model.fit(\n",
    "    X_train_scaled,\n",
    "    y_train_categorical,\n",
    "    epochs=25,\n",
    "    shuffle=True,\n",
    "    verbose=2\n",
    ")"
   ]
  },
  {
   "cell_type": "code",
   "execution_count": 11,
   "metadata": {},
   "outputs": [
    {
     "name": "stdout",
     "output_type": "stream",
     "text": [
      "Normal Neural Network - Loss: 0.06291205536803451, Accuracy: 0.9785010289180115\n",
      "_________________________________________________________________\n",
      "Layer (type)                 Output Shape              Param #   \n",
      "=================================================================\n",
      "dense_1 (Dense)              (None, 100)               400       \n",
      "_________________________________________________________________\n",
      "dense_2 (Dense)              (None, 100)               10100     \n",
      "_________________________________________________________________\n",
      "dense_3 (Dense)              (None, 100)               10100     \n",
      "_________________________________________________________________\n",
      "dense_4 (Dense)              (None, 100)               10100     \n",
      "_________________________________________________________________\n",
      "dense_5 (Dense)              (None, 13)                1313      \n",
      "=================================================================\n",
      "Total params: 32,013\n",
      "Trainable params: 32,013\n",
      "Non-trainable params: 0\n",
      "_________________________________________________________________\n"
     ]
    }
   ],
   "source": [
    "#Quantify the trained model\n",
    "model_loss, model_accuracy = model.evaluate(X_test_scaled, y_test_categorical, verbose=2)\n",
    "print(f\"Normal Neural Network - Loss: {model_loss}, Accuracy: {model_accuracy}\")\n",
    "\n",
    "model.summary()\n",
    "\n",
    "#save the model\n",
    "model.save(\"beer_3p_13style.h5\")"
   ]
  },
  {
   "cell_type": "code",
   "execution_count": 12,
   "metadata": {},
   "outputs": [
    {
     "data": {
      "text/plain": [
       "array([[ 0.65466273, -0.4406149 ,  2.0653341 ],\n",
       "       [ 0.03770917,  0.6346362 , -0.33022251],\n",
       "       [-0.4421436 , -0.02460475, -0.04509692],\n",
       "       [-0.52651332, -0.77393119,  0.84623409],\n",
       "       [-0.16266891,  0.49073041, -0.04342463],\n",
       "       [-0.27340417,  0.94416068, -0.42721538],\n",
       "       [-0.50542089, -0.11399727, -0.23072121],\n",
       "       [-0.37359321,  0.55101839,  0.63636159],\n",
       "       [ 0.47010397,  0.17173541,  0.10791769],\n",
       "       [ 0.05352849, -1.0250156 ,  0.13049361]])"
      ]
     },
     "execution_count": 12,
     "metadata": {},
     "output_type": "execute_result"
    }
   ],
   "source": [
    "X_test_scaled[:10]"
   ]
  },
  {
   "cell_type": "code",
   "execution_count": 13,
   "metadata": {},
   "outputs": [
    {
     "name": "stdout",
     "output_type": "stream",
     "text": [
      "Predicted classes: [ 3  5  9  9  5  5 11  9  5  9]\n",
      "Actual Labels: [3, 5, 9, 9, 5, 5, 11, 9, 5, 9]\n"
     ]
    }
   ],
   "source": [
    "###TEST THE MODEL - THIS DOESN'T GO IN FINAL CODE\n",
    "encoded_predictions = model.predict_classes(X_test_scaled[:10])\n",
    "\n",
    "#decode the \n",
    "prediction_labels = label_encoder.inverse_transform(encoded_predictions)\n",
    "\n",
    "#print predicted vs actual\n",
    "print(f\"Predicted classes: {prediction_labels}\")\n",
    "print(f\"Actual Labels: {list(y_test[:10])}\")\n",
    "### END SOLUTION"
   ]
  },
  {
   "cell_type": "code",
   "execution_count": 14,
   "metadata": {
    "collapsed": true
   },
   "outputs": [],
   "source": [
    "###Call the saved model and run a prediction\n",
    "\n",
    "# Load the model\n",
    "from keras.models import load_model\n",
    "model = load_model(\"beer_3p_13style.h5\")"
   ]
  },
  {
   "cell_type": "code",
   "execution_count": null,
   "metadata": {
    "collapsed": true
   },
   "outputs": [],
   "source": [
    "#tell it what to run based on user input - AJAX here?\n",
    "\n",
    "input_beer = #call user input\n",
    "\n",
    "input_beer_scaled = #how to scale our input?"
   ]
  },
  {
   "cell_type": "code",
   "execution_count": null,
   "metadata": {
    "collapsed": true
   },
   "outputs": [],
   "source": [
    "#run a prediction\n",
    "# Make predictions\n",
    "\n",
    "styleID_guess = model.predict_classes(input_beer_scaled) #Instead, do we want to show the % chance of each?\n",
    "\n",
    "styleID = #translate the style ID to a style name"
   ]
  }
 ],
 "metadata": {
  "kernelspec": {
   "display_name": "Python [default]",
   "language": "python",
   "name": "python3"
  },
  "language_info": {
   "codemirror_mode": {
    "name": "ipython",
    "version": 3
   },
   "file_extension": ".py",
   "mimetype": "text/x-python",
   "name": "python",
   "nbconvert_exporter": "python",
   "pygments_lexer": "ipython3",
   "version": "3.6.3"
  }
 },
 "nbformat": 4,
 "nbformat_minor": 2
}
