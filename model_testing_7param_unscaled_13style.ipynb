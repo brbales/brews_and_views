{
 "cells": [
  {
   "cell_type": "code",
   "execution_count": 43,
   "metadata": {
    "collapsed": true
   },
   "outputs": [],
   "source": [
    "# Dependencies to Visualize the model\n",
    "import matplotlib.pyplot as plt\n",
    "%matplotlib inline"
   ]
  },
  {
   "cell_type": "code",
   "execution_count": 44,
   "metadata": {
    "collapsed": true
   },
   "outputs": [],
   "source": [
    "# Filepaths, numpy, and Tensorflow\n",
    "import os\n",
    "import numpy as np\n",
    "import tensorflow as tf\n",
    "import pandas as pd"
   ]
  },
  {
   "cell_type": "code",
   "execution_count": 45,
   "metadata": {
    "collapsed": true
   },
   "outputs": [],
   "source": [
    "# Sklearn scaling\n",
    "from sklearn.preprocessing import MinMaxScaler"
   ]
  },
  {
   "cell_type": "code",
   "execution_count": 46,
   "metadata": {},
   "outputs": [],
   "source": [
    "# Keras\n",
    "from keras.models import Sequential\n",
    "from keras.utils import to_categorical\n",
    "from keras.layers import Dense"
   ]
  },
  {
   "cell_type": "markdown",
   "metadata": {},
   "source": [
    "# Loading and Preprocessing Data"
   ]
  },
  {
   "cell_type": "code",
   "execution_count": 47,
   "metadata": {},
   "outputs": [
    {
     "name": "stdout",
     "output_type": "stream",
     "text": [
      "Index(['BeerID', 'Name', 'Style', 'StyleID', 'OG', 'FG', 'ABV', 'IBU', 'Color',\n",
      "       'BoilSize', 'BoilTime', 'Efficiency', 'ViewCount', 'BrewCount',\n",
      "       'LastUpdated', 'Category', 'clusters_7param', 'clusters_3param'],\n",
      "      dtype='object')\n",
      "(73861, 7) (73861,)\n"
     ]
    }
   ],
   "source": [
    "#import data from Ethan\n",
    "all_beer_df = pd.read_csv(\"data/data_add_3param_cluster.csv\", encoding=\"latin1\" )\n",
    "\n",
    "#trim data to needed X colums\n",
    "print(all_beer_df.columns)\n",
    "beer_char = all_beer_df[[\"OG\",\"FG\",\"ABV\",\"IBU\",\"Color\",\"BoilTime\",\"Efficiency\"]]\n",
    "\n",
    "#Set beer_char as X \n",
    "X=beer_char\n",
    "X.head()\n",
    "\n",
    "#set y data\n",
    "y=all_beer_df[\"clusters_7param\"]\n",
    "print(X.shape, y.shape)"
   ]
  },
  {
   "cell_type": "code",
   "execution_count": 48,
   "metadata": {},
   "outputs": [
    {
     "name": "stdout",
     "output_type": "stream",
     "text": [
      "13\n"
     ]
    }
   ],
   "source": [
    "#find the number of unique beer styles and set as variable\n",
    "\n",
    "#create an array of unique values from the output dataset\n",
    "style_array = pd.unique(y.values)\n",
    "\n",
    "#set the count as the length of the output array\n",
    "style_count = len(style_array)\n",
    "\n",
    "print(style_count)"
   ]
  },
  {
   "cell_type": "code",
   "execution_count": 49,
   "metadata": {
    "collapsed": true
   },
   "outputs": [],
   "source": [
    "###Scale and pre-process the data\n",
    "from sklearn.model_selection import train_test_split\n",
    "from sklearn.preprocessing import LabelEncoder, StandardScaler\n",
    "from keras.utils import to_categorical\n",
    "\n",
    "X_train, X_test, y_train, y_test = train_test_split(X, y, random_state=1, stratify=y)\n",
    "\n",
    "# Step 1: Label-encode data set\n",
    "label_encoder = LabelEncoder()\n",
    "label_encoder.fit(y_train)\n",
    "encoded_y_train = label_encoder.transform(y_train)\n",
    "encoded_y_test = label_encoder.transform(y_test)\n",
    "\n",
    "# Step 2: Convert encoded labels to one-hot-encoding\n",
    "y_train_categorical = to_categorical(encoded_y_train)\n",
    "y_test_categorical = to_categorical(encoded_y_test)\n"
   ]
  },
  {
   "cell_type": "code",
   "execution_count": 50,
   "metadata": {},
   "outputs": [
    {
     "name": "stdout",
     "output_type": "stream",
     "text": [
      "[ 1.  0.  0.  0.  0.  0.  0.  0.  0.  0.  0.  0.  0.]\n"
     ]
    }
   ],
   "source": [
    "#check the categorical results\n",
    "print(y_train_categorical[0])"
   ]
  },
  {
   "cell_type": "markdown",
   "metadata": {},
   "source": [
    "Create Deep Learning Model"
   ]
  },
  {
   "cell_type": "code",
   "execution_count": 51,
   "metadata": {
    "collapsed": true
   },
   "outputs": [],
   "source": [
    "# setup a sequential model\n",
    "from keras.models import Sequential\n",
    "from keras.layers import Dense\n",
    "\n",
    "model = Sequential()\n",
    "# Add the first layer where the input dimensions are the 7 inputs\n",
    "# We can also choose our activation function\n",
    "model.add(Dense(units=100, activation='relu', input_dim=X_train.shape[1]))\n",
    "\n",
    "# add a second hidden layer\n",
    "model.add(Dense(units=100, activation='relu'))\n",
    "\n",
    "# add a second hidden layer\n",
    "model.add(Dense(units=100, activation='relu'))\n",
    "\n",
    "# add a third hidden layer\n",
    "model.add(Dense(units=100, activation='relu'))\n",
    "\n",
    "# specify the output\n",
    "model.add(Dense(units=style_count, activation='softmax'))"
   ]
  },
  {
   "cell_type": "code",
   "execution_count": 52,
   "metadata": {},
   "outputs": [
    {
     "name": "stdout",
     "output_type": "stream",
     "text": [
      "Epoch 1/30\n",
      " - 3s - loss: 0.4356 - acc: 0.8510\n",
      "Epoch 2/30\n",
      " - 3s - loss: 0.2218 - acc: 0.9182\n",
      "Epoch 3/30\n",
      " - 3s - loss: 0.1739 - acc: 0.9335\n",
      "Epoch 4/30\n",
      " - 3s - loss: 0.1562 - acc: 0.9406\n",
      "Epoch 5/30\n",
      " - 3s - loss: 0.1406 - acc: 0.9454\n",
      "Epoch 6/30\n",
      " - 3s - loss: 0.1268 - acc: 0.9519\n",
      "Epoch 7/30\n",
      " - 3s - loss: 0.1232 - acc: 0.9528\n",
      "Epoch 8/30\n",
      " - 3s - loss: 0.1143 - acc: 0.9563\n",
      "Epoch 9/30\n",
      " - 3s - loss: 0.1103 - acc: 0.9592\n",
      "Epoch 10/30\n",
      " - 3s - loss: 0.1088 - acc: 0.9587\n",
      "Epoch 11/30\n",
      " - 3s - loss: 0.1029 - acc: 0.9610\n",
      "Epoch 12/30\n",
      " - 3s - loss: 0.1013 - acc: 0.9619\n",
      "Epoch 13/30\n",
      " - 3s - loss: 0.0962 - acc: 0.9639\n",
      "Epoch 14/30\n",
      " - 3s - loss: 0.0930 - acc: 0.9657\n",
      "Epoch 15/30\n",
      " - 3s - loss: 0.0928 - acc: 0.9656\n",
      "Epoch 16/30\n",
      " - 3s - loss: 0.0918 - acc: 0.9654\n",
      "Epoch 17/30\n",
      " - 3s - loss: 0.0888 - acc: 0.9668\n",
      "Epoch 18/30\n",
      " - 3s - loss: 0.0879 - acc: 0.9673\n",
      "Epoch 19/30\n",
      " - 3s - loss: 0.0859 - acc: 0.9679\n",
      "Epoch 20/30\n",
      " - 3s - loss: 0.0822 - acc: 0.9690\n",
      "Epoch 21/30\n",
      " - 3s - loss: 0.0852 - acc: 0.9682\n",
      "Epoch 22/30\n",
      " - 3s - loss: 0.0830 - acc: 0.9695\n",
      "Epoch 23/30\n",
      " - 3s - loss: 0.0788 - acc: 0.9711\n",
      "Epoch 24/30\n",
      " - 3s - loss: 0.0782 - acc: 0.9714\n",
      "Epoch 25/30\n",
      " - 3s - loss: 0.0784 - acc: 0.9713\n",
      "Epoch 26/30\n",
      " - 3s - loss: 0.0775 - acc: 0.9711\n",
      "Epoch 27/30\n",
      " - 3s - loss: 0.0786 - acc: 0.9700\n",
      "Epoch 28/30\n",
      " - 3s - loss: 0.0755 - acc: 0.9723\n",
      "Epoch 29/30\n",
      " - 3s - loss: 0.0733 - acc: 0.9733\n",
      "Epoch 30/30\n",
      " - 3s - loss: 0.0733 - acc: 0.9737\n"
     ]
    },
    {
     "data": {
      "text/plain": [
       "<keras.callbacks.History at 0x29d4da62710>"
      ]
     },
     "execution_count": 52,
     "metadata": {},
     "output_type": "execute_result"
    }
   ],
   "source": [
    "# compile and fit the model\n",
    "\n",
    "model.compile(optimizer='adam', \n",
    "              loss='categorical_crossentropy', \n",
    "              metrics=['accuracy'])\n",
    "model.fit(\n",
    "    X_train,\n",
    "    y_train_categorical,\n",
    "    epochs=30,\n",
    "    shuffle=True,\n",
    "    verbose=2\n",
    ")"
   ]
  },
  {
   "cell_type": "code",
   "execution_count": 53,
   "metadata": {},
   "outputs": [
    {
     "name": "stdout",
     "output_type": "stream",
     "text": [
      "Normal Neural Network - Loss: 0.06435701272199829, Accuracy: 0.978013646702047\n",
      "_________________________________________________________________\n",
      "Layer (type)                 Output Shape              Param #   \n",
      "=================================================================\n",
      "dense_11 (Dense)             (None, 100)               800       \n",
      "_________________________________________________________________\n",
      "dense_12 (Dense)             (None, 100)               10100     \n",
      "_________________________________________________________________\n",
      "dense_13 (Dense)             (None, 100)               10100     \n",
      "_________________________________________________________________\n",
      "dense_14 (Dense)             (None, 100)               10100     \n",
      "_________________________________________________________________\n",
      "dense_15 (Dense)             (None, 13)                1313      \n",
      "=================================================================\n",
      "Total params: 32,413\n",
      "Trainable params: 32,413\n",
      "Non-trainable params: 0\n",
      "_________________________________________________________________\n"
     ]
    }
   ],
   "source": [
    "# quantify the trained model\n",
    "model_loss, model_accuracy = model.evaluate(X_test, y_test_categorical, verbose=2) \n",
    "print(f\"Normal Neural Network - Loss: {model_loss}, Accuracy: {model_accuracy}\")\n",
    "\n",
    "model.summary()\n",
    "\n",
    "# save the model\n",
    "model.save(\"models/beer_13style_7p_unscaled.h5\")"
   ]
  },
  {
   "cell_type": "code",
   "execution_count": 54,
   "metadata": {},
   "outputs": [
    {
     "data": {
      "text/plain": [
       "[[1.038, 1.007, 4.09, 59.71, 4.62, 50.0, 35.0],\n",
       " [1.041, 1.012, 3.79, 33.91, 14.61, 60.0, 78.0],\n",
       " [1.089, 1.021, 8.86, 57.19, 39.74, 75.0, 75.0],\n",
       " [1.064, 1.011, 6.98, 328.96, 6.52, 90.0, 60.0],\n",
       " [1.048, 1.012, 4.71, 23.49, 3.95, 60.0, 35.0],\n",
       " [1.0590000000000002, 1.01, 6.42, 62.87, 10.51, 60.0, 75.0],\n",
       " [1.051, 1.01, 5.4, 16.95, 6.77, 60.0, 35.0],\n",
       " [1.048, 1.012, 4.82, 32.87, 6.17, 70.0, 80.0],\n",
       " [1.06, 1.014, 6.04, 31.37, 26.54, 60.0, 30.0],\n",
       " [1.12, 1.031, 11.74, 70.04, 49.25, 90.0, 70.0]]"
      ]
     },
     "execution_count": 54,
     "metadata": {},
     "output_type": "execute_result"
    }
   ],
   "source": [
    "testing = X_test[:10].values.tolist()\n",
    "testing"
   ]
  },
  {
   "cell_type": "code",
   "execution_count": 55,
   "metadata": {},
   "outputs": [
    {
     "name": "stdout",
     "output_type": "stream",
     "text": [
      "Predicted classes: [ 6  0  2  9  6 12  6  0 10  2]\n",
      "Actual Labels: [6, 0, 2, 9, 6, 12, 6, 0, 10, 2]\n"
     ]
    }
   ],
   "source": [
    "# re-test for visual relation\n",
    "encoded_predictions = model.predict_classes(np.array(testing))\n",
    "\n",
    "#decode the \n",
    "prediction_labels = label_encoder.inverse_transform(encoded_predictions)\n",
    "\n",
    "#print predicted vs actual\n",
    "print(f\"Predicted classes: {prediction_labels}\")\n",
    "print(f\"Actual Labels: {list(y_test[:10])}\")\n",
    "### END SOLUTION"
   ]
  },
  {
   "cell_type": "code",
   "execution_count": null,
   "metadata": {
    "collapsed": true
   },
   "outputs": [],
   "source": []
  }
 ],
 "metadata": {
  "kernelspec": {
   "display_name": "Python [default]",
   "language": "python",
   "name": "python3"
  },
  "language_info": {
   "codemirror_mode": {
    "name": "ipython",
    "version": 3
   },
   "file_extension": ".py",
   "mimetype": "text/x-python",
   "name": "python",
   "nbconvert_exporter": "python",
   "pygments_lexer": "ipython3",
   "version": "3.6.3"
  }
 },
 "nbformat": 4,
 "nbformat_minor": 2
}
