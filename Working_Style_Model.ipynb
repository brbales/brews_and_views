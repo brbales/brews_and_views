{
 "cells": [
  {
   "cell_type": "code",
   "execution_count": 1,
   "metadata": {
    "collapsed": true
   },
   "outputs": [],
   "source": [
    "# Dependencies to Visualize the model\n",
    "import matplotlib.pyplot as plt\n",
    "%matplotlib inline"
   ]
  },
  {
   "cell_type": "code",
   "execution_count": 2,
   "metadata": {
    "collapsed": true
   },
   "outputs": [],
   "source": [
    "# Filepaths, numpy, and Tensorflow\n",
    "import os\n",
    "import numpy as np\n",
    "import tensorflow as tf\n",
    "import pandas as pd"
   ]
  },
  {
   "cell_type": "code",
   "execution_count": 3,
   "metadata": {
    "collapsed": true
   },
   "outputs": [],
   "source": [
    "# Sklearn scaling\n",
    "from sklearn.preprocessing import MinMaxScaler"
   ]
  },
  {
   "cell_type": "code",
   "execution_count": 4,
   "metadata": {},
   "outputs": [
    {
     "name": "stderr",
     "output_type": "stream",
     "text": [
      "Using TensorFlow backend.\n"
     ]
    }
   ],
   "source": [
    "# Keras\n",
    "from keras.models import Sequential\n",
    "from keras.utils import to_categorical\n",
    "from keras.layers import Dense"
   ]
  },
  {
   "cell_type": "markdown",
   "metadata": {},
   "source": [
    "# Loading and Preprocessing Data"
   ]
  },
  {
   "cell_type": "code",
   "execution_count": 6,
   "metadata": {},
   "outputs": [
    {
     "name": "stdout",
     "output_type": "stream",
     "text": [
      "Index(['Name', 'URL', 'Style', 'StyleID', 'Size(L)', 'OG', 'FG', 'ABV', 'IBU',\n",
      "       'Color', 'BoilSize', 'BoilTime', 'BoilGravity', 'Efficiency',\n",
      "       'MashThickness', 'SugarScale', 'BrewMethod', 'ViewCount', 'BrewCount',\n",
      "       'LastUpdated'],\n",
      "      dtype='object')\n",
      "(73861, 5) (73861,)\n"
     ]
    },
    {
     "name": "stderr",
     "output_type": "stream",
     "text": [
      "C:\\Users\\ArneNewman\\Anaconda3\\envs\\PythonData\\lib\\site-packages\\IPython\\core\\interactiveshell.py:2698: DtypeWarning: Columns (20) have mixed types. Specify dtype option on import or set low_memory=False.\n",
      "  interactivity=interactivity, compiler=compiler, result=result)\n"
     ]
    },
    {
     "data": {
      "text/plain": [
       "BeerID\n",
       "1    45\n",
       "2    85\n",
       "3     7\n",
       "4     7\n",
       "5    20\n",
       "Name: StyleID, dtype: int64"
      ]
     },
     "execution_count": 6,
     "metadata": {},
     "output_type": "execute_result"
    }
   ],
   "source": [
    "#import data from Ethan\n",
    "all_beer_df = pd.read_csv('data_csv.csv', index_col=0)\n",
    "\n",
    "#trim data to needed X colums\n",
    "print(all_beer_df.columns)\n",
    "beer_char = all_beer_df[[\"OG\",\"FG\",\"ABV\",\"IBU\",\"Color\"]]\n",
    "\n",
    "#Set beer_char as X \n",
    "X=beer_char\n",
    "X.head()\n",
    "\n",
    "#set y data\n",
    "y=all_beer_df[\"StyleID\"]\n",
    "print(X.shape, y.shape)\n",
    "y.head()"
   ]
  },
  {
   "cell_type": "code",
   "execution_count": 18,
   "metadata": {},
   "outputs": [
    {
     "name": "stdout",
     "output_type": "stream",
     "text": [
      "176\n"
     ]
    }
   ],
   "source": [
    "#find the number of unique beer styles and set as variable\n",
    "\n",
    "#create an array of unique values from the output dataset\n",
    "style_array = pd.unique(y.values)\n",
    "\n",
    "#set the count as the length of the output array\n",
    "style_count = len(style_array)\n",
    "\n",
    "print(style_count)"
   ]
  },
  {
   "cell_type": "code",
   "execution_count": 7,
   "metadata": {
    "collapsed": true
   },
   "outputs": [],
   "source": [
    "###Scale and pre-process the data\n",
    "from sklearn.model_selection import train_test_split\n",
    "from sklearn.preprocessing import LabelEncoder, StandardScaler\n",
    "from keras.utils import to_categorical\n",
    "\n",
    "X_train, X_test, y_train, y_test = train_test_split(X, y, random_state=1, stratify=y)\n",
    "X_scaler = StandardScaler().fit(X_train)\n",
    "X_train_scaled = X_scaler.transform(X_train)\n",
    "X_test_scaled = X_scaler.transform(X_test)\n",
    "\n",
    "\n",
    "# Step 1: Label-encode data set\n",
    "label_encoder = LabelEncoder()\n",
    "label_encoder.fit(y_train)\n",
    "encoded_y_train = label_encoder.transform(y_train)\n",
    "encoded_y_test = label_encoder.transform(y_test)\n",
    "\n",
    "# Step 2: Convert encoded labels to one-hot-encoding\n",
    "y_train_categorical = to_categorical(encoded_y_train)\n",
    "y_test_categorical = to_categorical(encoded_y_test)\n"
   ]
  },
  {
   "cell_type": "code",
   "execution_count": 8,
   "metadata": {},
   "outputs": [
    {
     "name": "stdout",
     "output_type": "stream",
     "text": [
      "[ 0.  0.  0.  0.  0.  0.  0.  0.  0.  0.  0.  0.  0.  0.  0.  0.  0.  0.\n",
      "  0.  0.  0.  0.  0.  0.  0.  0.  0.  0.  0.  0.  0.  0.  0.  0.  0.  0.\n",
      "  0.  0.  0.  0.  0.  0.  0.  0.  1.  0.  0.  0.  0.  0.  0.  0.  0.  0.\n",
      "  0.  0.  0.  0.  0.  0.  0.  0.  0.  0.  0.  0.  0.  0.  0.  0.  0.  0.\n",
      "  0.  0.  0.  0.  0.  0.  0.  0.  0.  0.  0.  0.  0.  0.  0.  0.  0.  0.\n",
      "  0.  0.  0.  0.  0.  0.  0.  0.  0.  0.  0.  0.  0.  0.  0.  0.  0.  0.\n",
      "  0.  0.  0.  0.  0.  0.  0.  0.  0.  0.  0.  0.  0.  0.  0.  0.  0.  0.\n",
      "  0.  0.  0.  0.  0.  0.  0.  0.  0.  0.  0.  0.  0.  0.  0.  0.  0.  0.\n",
      "  0.  0.  0.  0.  0.  0.  0.  0.  0.  0.  0.  0.  0.  0.  0.  0.  0.  0.\n",
      "  0.  0.  0.  0.  0.  0.  0.  0.  0.  0.  0.  0.  0.  0.]\n"
     ]
    }
   ],
   "source": [
    "#check the categorical results\n",
    "print(y_train_categorical[0])"
   ]
  },
  {
   "cell_type": "markdown",
   "metadata": {},
   "source": [
    "Create Deep Learning Model"
   ]
  },
  {
   "cell_type": "code",
   "execution_count": 31,
   "metadata": {
    "collapsed": true
   },
   "outputs": [],
   "source": [
    "#setup a sequential model\n",
    "from keras.models import Sequential\n",
    "from keras.layers import Dense\n",
    "\n",
    "model = Sequential()\n",
    "# Add the first layer where the input dimensions are the 5 inputs (don't have to specify batch size)\n",
    "# We can also choose our activation function. `relu` is a common\n",
    "model.add(Dense(units=150, activation='relu', input_dim=X_train.shape[1]))\n",
    "\n",
    "#add a second hidden layer\n",
    "model.add(Dense(units=150, activation='relu'))\n",
    "\n",
    "#add a third hidden layer\n",
    "model.add(Dense(units=150, activation='relu'))\n",
    "\n",
    "#specify the output\n",
    "model.add(Dense(units=style_count, activation='softmax'))"
   ]
  },
  {
   "cell_type": "code",
   "execution_count": 32,
   "metadata": {},
   "outputs": [
    {
     "name": "stdout",
     "output_type": "stream",
     "text": [
      "Epoch 1/20\n",
      " - 6s - loss: 2.9977 - acc: 0.2905\n",
      "Epoch 2/20\n",
      " - 5s - loss: 2.7603 - acc: 0.3188\n",
      "Epoch 3/20\n",
      " - 5s - loss: 2.7178 - acc: 0.3231\n",
      "Epoch 4/20\n",
      " - 5s - loss: 2.6944 - acc: 0.3257\n",
      "Epoch 5/20\n",
      " - 5s - loss: 2.6761 - acc: 0.3291\n",
      "Epoch 6/20\n",
      " - 6s - loss: 2.6624 - acc: 0.3309\n",
      "Epoch 7/20\n",
      " - 6s - loss: 2.6513 - acc: 0.3315\n",
      "Epoch 8/20\n",
      " - 6s - loss: 2.6425 - acc: 0.3342\n",
      "Epoch 9/20\n",
      " - 6s - loss: 2.6327 - acc: 0.3351\n",
      "Epoch 10/20\n",
      " - 6s - loss: 2.6252 - acc: 0.3351\n",
      "Epoch 11/20\n",
      " - 6s - loss: 2.6180 - acc: 0.3366\n",
      "Epoch 12/20\n",
      " - 6s - loss: 2.6103 - acc: 0.3356\n",
      "Epoch 13/20\n",
      " - 6s - loss: 2.6045 - acc: 0.3371\n",
      "Epoch 14/20\n",
      " - 7s - loss: 2.5985 - acc: 0.3391\n",
      "Epoch 15/20\n",
      " - 7s - loss: 2.5924 - acc: 0.3392\n",
      "Epoch 16/20\n",
      " - 6s - loss: 2.5868 - acc: 0.3398\n",
      "Epoch 17/20\n",
      " - 6s - loss: 2.5818 - acc: 0.3397\n",
      "Epoch 18/20\n",
      " - 6s - loss: 2.5776 - acc: 0.3409\n",
      "Epoch 19/20\n",
      " - 7s - loss: 2.5727 - acc: 0.3397\n",
      "Epoch 20/20\n",
      " - 5s - loss: 2.5662 - acc: 0.3419\n"
     ]
    },
    {
     "data": {
      "text/plain": [
       "<keras.callbacks.History at 0x283bcdfb4a8>"
      ]
     },
     "execution_count": 32,
     "metadata": {},
     "output_type": "execute_result"
    }
   ],
   "source": [
    "#compile and fit the model\n",
    "\n",
    "model.compile(optimizer='adam', \n",
    "              loss='categorical_crossentropy', \n",
    "              metrics=['accuracy'])\n",
    "model.fit(\n",
    "    X_train_scaled,\n",
    "    y_train_categorical,\n",
    "    epochs=20,\n",
    "    shuffle=True,\n",
    "    verbose=2\n",
    ")"
   ]
  },
  {
   "cell_type": "code",
   "execution_count": 25,
   "metadata": {},
   "outputs": [
    {
     "name": "stdout",
     "output_type": "stream",
     "text": [
      "Normal Neural Network - Loss: 2.7107928425419, Accuracy: 0.3335318964583559\n",
      "_________________________________________________________________\n",
      "Layer (type)                 Output Shape              Param #   \n",
      "=================================================================\n",
      "dense_1 (Dense)              (None, 100)               600       \n",
      "_________________________________________________________________\n",
      "dense_2 (Dense)              (None, 100)               10100     \n",
      "_________________________________________________________________\n",
      "dense_3 (Dense)              (None, 176)               17776     \n",
      "=================================================================\n",
      "Total params: 28,476\n",
      "Trainable params: 28,476\n",
      "Non-trainable params: 0\n",
      "_________________________________________________________________\n"
     ]
    }
   ],
   "source": [
    "#Quantify the trained model\n",
    "model_loss, model_accuracy = model.evaluate(X_test_scaled, y_test_categorical, verbose=2)\n",
    "print(f\"Normal Neural Network - Loss: {model_loss}, Accuracy: {model_accuracy}\")\n",
    "\n",
    "model.summary()\n",
    "\n",
    "#save the model\n",
    "model.save(\"beer_styles.h5\")"
   ]
  },
  {
   "cell_type": "code",
   "execution_count": 30,
   "metadata": {},
   "outputs": [
    {
     "data": {
      "text/plain": [
       "array([[-0.15728519, -0.15349761,  0.19861203, -0.45382044, -0.12585185],\n",
       "       [-0.15093001, -0.13477928,  0.64577732,  1.15854218,  0.83074592],\n",
       "       [-0.15637731, -0.16285678,  0.70965808, -0.31960958,  1.30527867],\n",
       "       [-0.15773914, -0.13009969, -0.52004648, -0.39656325,  0.4348835 ],\n",
       "       [-0.16364038, -0.1558374 , -0.67442497,  0.34457389, -0.86317699],\n",
       "       [-0.14775242, -0.13711907,  1.21538073,  0.35946076, -0.21791288],\n",
       "       [-0.1541076 , -0.14647824,  0.49672223, -0.2999131 , -0.59368925],\n",
       "       [-0.1627325 , -0.14647824, -0.80750988, -0.14165421,  1.18308858],\n",
       "       [-0.15592337, -0.13945886, -0.03561741, -0.41419846, -0.54431107],\n",
       "       [-0.15683125, -0.14179865, -0.08352798, -0.25090094, -0.76525753]])"
      ]
     },
     "execution_count": 30,
     "metadata": {},
     "output_type": "execute_result"
    }
   ],
   "source": [
    "X_test_scaled[:10]"
   ]
  },
  {
   "cell_type": "code",
   "execution_count": 28,
   "metadata": {},
   "outputs": [
    {
     "name": "stdout",
     "output_type": "stream",
     "text": [
      "Predicted classes: [102 148  19  92   7   7 134  58 134 134]\n",
      "Actual Labels: [4, 67, 134, 92, 7, 147, 10, 6, 7, 169]\n"
     ]
    }
   ],
   "source": [
    "###TEST THE MODEL - THIS DOESN'T GO IN FINAL CODE\n",
    "encoded_predictions = model.predict_classes(X_test_scaled[:10])\n",
    "\n",
    "#decode the \n",
    "prediction_labels = label_encoder.inverse_transform(encoded_predictions)\n",
    "\n",
    "#print predicted vs actual\n",
    "print(f\"Predicted classes: {prediction_labels}\")\n",
    "print(f\"Actual Labels: {list(y_test[:10])}\")\n",
    "### END SOLUTION"
   ]
  },
  {
   "cell_type": "code",
   "execution_count": 29,
   "metadata": {
    "collapsed": true
   },
   "outputs": [],
   "source": [
    "###Call the saved model and run a prediction\n",
    "\n",
    "# Load the model\n",
    "from keras.models import load_model\n",
    "model = load_model(\"beer_styles.h5\")"
   ]
  },
  {
   "cell_type": "code",
   "execution_count": null,
   "metadata": {
    "collapsed": true
   },
   "outputs": [],
   "source": [
    "#tell it what to run based on user input - AJAX here?\n",
    "\n",
    "input_beer = #call user input\n",
    "\n",
    "input_beer_scaled = #how to scale our input?"
   ]
  },
  {
   "cell_type": "code",
   "execution_count": null,
   "metadata": {
    "collapsed": true
   },
   "outputs": [],
   "source": [
    "#run a prediction\n",
    "# Make predictions\n",
    "\n",
    "styleID_guess = model.predict_classes(input_beer_scaled) #Instead, do we want to show the % chance of each?\n",
    "\n",
    "styleID = #translate the style ID to a style name"
   ]
  }
 ],
 "metadata": {
  "kernelspec": {
   "display_name": "Python [default]",
   "language": "python",
   "name": "python3"
  },
  "language_info": {
   "codemirror_mode": {
    "name": "ipython",
    "version": 3
   },
   "file_extension": ".py",
   "mimetype": "text/x-python",
   "name": "python",
   "nbconvert_exporter": "python",
   "pygments_lexer": "ipython3",
   "version": "3.6.1"
  }
 },
 "nbformat": 4,
 "nbformat_minor": 2
}
